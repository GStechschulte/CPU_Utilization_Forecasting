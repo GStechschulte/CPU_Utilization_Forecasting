{
 "cells": [
  {
   "cell_type": "code",
   "execution_count": null,
   "metadata": {},
   "outputs": [],
   "source": [
    "from __future__ import division\n",
    "%matplotlib inline\n",
    "import pandas as pd\n",
    "import os\n",
    "from glob import glob \n",
    "from io import StringIO\n",
    "import numpy as np\n",
    "import matplotlib.pyplot as plt \n",
    "import datetime as dt \n",
    "import seaborn as sns\n",
    "from sklearn.preprocessing import StandardScaler\n",
    "from sklearn.metrics import mean_squared_error, r2_score,  mean_absolute_error\n",
    "import xgboost as xgb\n",
    "from xgboost import plot_importance"
   ]
  },
  {
   "cell_type": "code",
   "execution_count": null,
   "metadata": {},
   "outputs": [],
   "source": [
    "one = pd.read_csv('/Volumes/GabeTB/Data/Energy_IoT/FinalMerged/finalone.csv', )\n",
    "two = pd.read_csv('/Volumes/GabeTB/Data/Energy_IoT/FinalMerged/finaltwo.csv')\n",
    "four = pd.read_csv('/Volumes/GabeTB/Data/Energy_IoT/FinalMerged/finalfour.csv')\n",
    "eight = pd.read_csv('/Volumes/GabeTB/Data/Energy_IoT/FinalMerged/finaleight.csv')\n",
    "sixteen = pd.read_csv('/Volumes/GabeTB/Data/Energy_IoT/FinalMerged/finalsixteen.csv')\n",
    "thirtytwo = pd.read_csv('/Volumes/GabeTB/Data/Energy_IoT/FinalMerged/finalthirtytwo.csv')"
   ]
  },
  {
   "cell_type": "code",
   "execution_count": null,
   "metadata": {},
   "outputs": [],
   "source": [
    "# In order to perform feature engineering, index needs to be datetime object\n",
    "def setindex(df):\n",
    "    \n",
    "    df.set_index('Timestamp [ms]', inplace=True)\n",
    "    df.index = pd.to_datetime(df.index)\n",
    "    return df\n",
    "    \n",
    "one = setindex(one)\n",
    "two = setindex(two)\n",
    "four = setindex(four)\n",
    "eight = setindex(eight)\n",
    "sixteen = setindex(sixteen)\n",
    "thirtytwo = setindex(thirtytwo)"
   ]
  },
  {
   "cell_type": "code",
   "execution_count": null,
   "metadata": {},
   "outputs": [],
   "source": [
    "# Feature Engineering for Time Series Forecasting \n",
    "def featEngineer(df):\n",
    "    \n",
    "    df['weekday'] = df.index.weekday\n",
    "    df['hour'] = df.index.hour\n",
    "    df['week'] = df.index.week\n",
    "    df['minute'] = df.index.minute\n",
    "    \n",
    "featEngineer(one)\n",
    "featEngineer(two)\n",
    "featEngineer(four)\n",
    "featEngineer(eight)\n",
    "featEngineer(sixteen)\n",
    "featEngineer(thirtytwo)"
   ]
  },
  {
   "cell_type": "code",
   "execution_count": null,
   "metadata": {},
   "outputs": [],
   "source": [
    "# Feature Usage\n",
    "model_min = ['\\tCPU capacity provisioned [MHZ]',\n",
    "         #'\\tCPU cores',\n",
    "         '\\tDisk read throughput [KB/s]',\n",
    "         '\\tDisk write throughput [KB/s]',\n",
    "         '\\tMemory capacity provisioned [KB]',\n",
    "         '\\tMemory usage [KB]',\n",
    "         '\\tNetwork received throughput [KB/s]',\n",
    "         '\\tNetwork transmitted throughput [KB/s]',\n",
    "         'weekday',\n",
    "         'hour',\n",
    "         'week']\n",
    "         #'minute'] \n",
    "\n",
    "def train_test(df):\n",
    "    \n",
    "    df = df.groupby('minute').mean()\n",
    "    \n",
    "    test_size = 0.4\n",
    "    test_index = int(len(df.dropna())*(1-test_size))\n",
    "\n",
    "    X_train = df[model_min].iloc[:test_index,]\n",
    "    x_test = df[model_min].iloc[test_index:,]\n",
    "\n",
    "    Y_train = df['\\tCPU usage [MHZ]'].iloc[:test_index,]\n",
    "    y_test = df['\\tCPU usage [MHZ]'].iloc[test_index:,]\n",
    "\n",
    "    return X_train, x_test, Y_train, y_test\n",
    "\n",
    "X_train1, x_test1, Y_train1, y_test1 = train_test(one)\n",
    "X_train2, x_test2, Y_train2, y_test2 = train_test(two)\n",
    "X_train4, x_test4, Y_train4, y_test4 = train_test(four)\n",
    "X_train8, x_test8, Y_train8, y_test8 = train_test(eight)\n",
    "X_train16, x_test16, Y_train16, y_test16 = train_test(sixteen)\n",
    "X_train32, x_test32, Y_train32, y_test32 = train_test(thirtytwo)"
   ]
  },
  {
   "cell_type": "code",
   "execution_count": null,
   "metadata": {},
   "outputs": [],
   "source": [
    "def scaler(X_train, x_test):\n",
    "    scaler = StandardScaler()\n",
    "    scaler.fit(X_train)\n",
    "\n",
    "    X_train = scaler.transform(X_train)\n",
    "    x_test = scaler.transform(x_test)\n",
    "    \n",
    "    return X_train, x_test\n",
    "    \n",
    "X_train1, x_test1 = scaler(X_train1, x_test1)\n",
    "X_train2, x_test2 = scaler(X_train2, x_test2)\n",
    "X_train4, x_test4 = scaler(X_train4, x_test4)\n",
    "X_train8, x_test8 = scaler(X_train8, x_test8)\n",
    "X_train16, x_test16 = scaler(X_train16, x_test16)\n",
    "X_train32, x_test32 = scaler(X_train32, x_test32)"
   ]
  },
  {
   "cell_type": "code",
   "execution_count": null,
   "metadata": {},
   "outputs": [],
   "source": [
    "def XGBoost(X_train, y_train, x_test, y_test, core):\n",
    "    xg_reg = xgb.XGBRegressor(objective ='reg:squarederror', \n",
    "                              eta = 0.1,\n",
    "                              max_depth = 6, \n",
    "                              n_estimators = 1000)\n",
    "    \n",
    "    xg_reg.fit(X_train, y_train)\n",
    "    \n",
    "    preds = xg_reg.predict(x_test)\n",
    "    \n",
    "    errors = abs(preds - y_test)\n",
    "    \n",
    "    mape = 100 * np.mean(errors / y_test)\n",
    "    r_score = 100 *r2_score(y_test, preds)\n",
    "    accuracy = 100 - mape\n",
    "    \n",
    "    mse = mean_squared_error(y_true=y_test,\n",
    "                             y_pred=preds)\n",
    "    rmse = np.sqrt(mse)\n",
    "    \n",
    "    print('XGBoost on {} Core CPU'.format(core))\n",
    "    print('MSE             : {:0.4f}'.format(mse))\n",
    "    print('RMSE            : {:0.4f}'.format(rmse))\n",
    "    print('Average Error   : {:0.4f} degrees'.format(np.mean(errors)))\n",
    "    print('R^2             : {:0.2f}%'.format(r_score))\n",
    "    print('Accuracy        : {:0.2f}%\\n'.format(accuracy))\n",
    "    \n",
    "    #plot_importance(xg_reg)\n",
    "    \n",
    "    return preds"
   ]
  },
  {
   "cell_type": "code",
   "execution_count": null,
   "metadata": {},
   "outputs": [],
   "source": [
    "xg1 = XGBoost(X_train1, Y_train1, x_test1, y_test1, '1')\n",
    "xg2 = XGBoost(X_train2, Y_train2, x_test2, y_test2, '2')\n",
    "xg4 = XGBoost(X_train4, Y_train4, x_test4, y_test4, '4')\n",
    "xg8 = XGBoost(X_train8, Y_train8, x_test8, y_test8, '8')\n",
    "xg16 = XGBoost(X_train16, Y_train16, x_test16, y_test16, '16')\n",
    "xg32 = XGBoost(X_train32, Y_train32, x_test32, y_test32, '32')"
   ]
  },
  {
   "cell_type": "code",
   "execution_count": null,
   "metadata": {},
   "outputs": [],
   "source": [
    "def plot_pred(y_test, pred, core):\n",
    "    \n",
    "    fig = plt.figure(figsize=(20,10))\n",
    "    plt.plot(y_test.values, label='Target Value', color='b')\n",
    "    plt.plot(pred, label='XGBoost Predictions', color='y')\n",
    "    plt.xlabel('Time Steps (In Minutes)')\n",
    "    plt.ylabel('CPU Utilization (MHZ) - Normalized')\n",
    "    plt.title('{} Core CPU Utilization ~30 minute Forecast'.format(core))\n",
    "    plt.legend(loc=1)\n",
    "    plt.savefig('{}_Core_Prediction.jpg'.format(core), bbox_inches='tight', \n",
    "               dpi=350)\n",
    "    plt.show()"
   ]
  },
  {
   "cell_type": "code",
   "execution_count": null,
   "metadata": {},
   "outputs": [],
   "source": [
    "plot_pred(y_test1, xg1, '1')"
   ]
  },
  {
   "cell_type": "code",
   "execution_count": null,
   "metadata": {},
   "outputs": [],
   "source": [
    "plot_pred(y_test2, xg2, '2')"
   ]
  },
  {
   "cell_type": "code",
   "execution_count": null,
   "metadata": {},
   "outputs": [],
   "source": [
    "plot_pred(y_test4, xg4, '4')"
   ]
  },
  {
   "cell_type": "code",
   "execution_count": null,
   "metadata": {},
   "outputs": [],
   "source": [
    "plot_pred(y_test8, xg8, '8')"
   ]
  },
  {
   "cell_type": "code",
   "execution_count": null,
   "metadata": {},
   "outputs": [],
   "source": [
    "plot_pred(y_test16, xg16, '16')"
   ]
  },
  {
   "cell_type": "code",
   "execution_count": null,
   "metadata": {},
   "outputs": [],
   "source": [
    "plot_pred(y_test32, xg32, '32')"
   ]
  }
 ],
 "metadata": {
  "kernelspec": {
   "display_name": "Python 3",
   "language": "python",
   "name": "python3"
  },
  "language_info": {
   "codemirror_mode": {
    "name": "ipython",
    "version": 3
   },
   "file_extension": ".py",
   "mimetype": "text/x-python",
   "name": "python",
   "nbconvert_exporter": "python",
   "pygments_lexer": "ipython3",
   "version": "3.7.4"
  }
 },
 "nbformat": 4,
 "nbformat_minor": 4
}
